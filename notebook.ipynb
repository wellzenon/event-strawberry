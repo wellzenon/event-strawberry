{
 "cells": [
  {
   "cell_type": "code",
   "execution_count": 9,
   "source": [
    "from python_scripts import django_initializer\n",
    "from back.accounts.models import CustomUser\n",
    "\n",
    "CustomUser.objects.all()[0]"
   ],
   "outputs": [
    {
     "output_type": "execute_result",
     "data": {
      "text/plain": [
       "<CustomUser: a>"
      ]
     },
     "metadata": {},
     "execution_count": 9
    }
   ],
   "metadata": {}
  },
  {
   "cell_type": "code",
   "execution_count": 11,
   "source": [
    "from back.events.permissions import IsAuthenticated2\n"
   ],
   "outputs": [],
   "metadata": {}
  },
  {
   "cell_type": "code",
   "execution_count": 18,
   "source": [
    "ee = IsAuthenticated2(\"kkkkk\")\n",
    "vars(ee)"
   ],
   "outputs": [
    {
     "output_type": "execute_result",
     "data": {
      "text/plain": [
       "{}"
      ]
     },
     "metadata": {},
     "execution_count": 18
    }
   ],
   "metadata": {}
  }
 ],
 "metadata": {
  "orig_nbformat": 4,
  "language_info": {
   "name": "python",
   "version": "3.8.10",
   "mimetype": "text/x-python",
   "codemirror_mode": {
    "name": "ipython",
    "version": 3
   },
   "pygments_lexer": "ipython3",
   "nbconvert_exporter": "python",
   "file_extension": ".py"
  },
  "kernelspec": {
   "name": "python3",
   "display_name": "Python 3.8.10 64-bit ('event-strawberry-dG0wxCDX-py3.8': poetry)"
  },
  "interpreter": {
   "hash": "0af435e34221f52746fbcdddbc16391feb1f60eb1b0963fd212c50809433eb9a"
  }
 },
 "nbformat": 4,
 "nbformat_minor": 2
}